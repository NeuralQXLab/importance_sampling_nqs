{
 "cells": [
  {
   "cell_type": "markdown",
   "metadata": {},
   "source": [
    "# Ground state search for the $N_2$ molecule\n",
    " The Hamiltonians of molecular systems,\n",
    "$$\n",
    "H=\\sum_{i,j,\\sigma}t_{ij}c_{i,\\sigma}^\\dagger c_{j,\\sigma}+\\frac{1}{2}\\sum_{i,j,k,l,\\sigma,\\sigma^{\\prime}}V_{ijkl}c_{i,\\sigma}^\\dagger c_{j,\\sigma^{\\prime}}^\\dagger c_{l,\\sigma^{\\prime}}c_{k,\\sigma},\n",
    "$$\n",
    "where $t_{ij}$ and $V_{ijkl}$ depend on the exact choice of molecule and basis, in general lead to very peaked wave-functions, which makes them challenging for VMC-based approaches to tackle.\n",
    "\n",
    "In this notebook we will focus on the nitrogen molecule in the STO-3G, which is relatively small ($\\dim(\\mathcal{H}) = 1.44\\times10^4$) and is known to have a very peaked ground state."
   ]
  },
  {
   "cell_type": "code",
   "execution_count": 1,
   "metadata": {},
   "outputs": [],
   "source": [
    "import netket as nk \n",
    "import matplotlib.pyplot as plt \n",
    "import optax\n",
    "import jax.numpy as jnp\n",
    "from netket.callbacks import InvalidLossStopping\n",
    "\n",
    "import advanced_drivers as advd\n",
    "from  grad_sample.ansatz import LogNeuralBackflow\n",
    "from grad_sample.models import PCMolecule\n",
    "from grad_sample.utils import e_diag, save_exact_err"
   ]
  },
  {
   "cell_type": "code",
   "execution_count": 2,
   "metadata": {},
   "outputs": [],
   "source": [
    "# Define VMC hparams\n",
    "Ns = 2**10\n",
    "n_iter = 500\n",
    "\n",
    "lr = optax.linear_schedule(init_value = 0.1,\n",
    "                            transition_steps = 200,\n",
    "                            end_value= 0.01)\n",
    "                    \n",
    "diag_shift= 1e-4\n",
    "\n",
    "# chunk_size_jac = 1024\n",
    "chunk_size_vstate = 8192\n",
    "momentum = 0.9\n",
    "opt = optax.sgd(learning_rate=lr)"
   ]
  },
  {
   "cell_type": "markdown",
   "metadata": {},
   "source": [
    "### Variational State creation\n",
    "- Instead of the usual Metropolis sampler, we will resort to an exact sampler due to the small system size. This will speed up the optimization.\n",
    "- As an ansatz, we employ the Neural Network backflow which takes the following form:\n",
    "$$ $$"
   ]
  },
  {
   "cell_type": "code",
   "execution_count": null,
   "metadata": {},
   "outputs": [
    {
     "data": {
      "image/png": "[encoded data removed]",
      "text/plain": [
       "<Figure size 640x480 with 1 Axes>"
      ]
     },
     "metadata": {},
     "output_type": "display_data"
    }
   ],
   "source": [
    "plt.plot(out_psi_mod['rel_err'])\n",
    "plt.yscale('log')"
   ]
  },
  {
   "cell_type": "code",
   "execution_count": null,
   "metadata": {},
   "outputs": [
    {
     "name": "stdout",
     "output_type": "stream",
     "text": [
      "converged SCF energy = -107.498967544584\n",
      "E(RCISD) = -107.6470818557153  E_corr = -0.1481143111314713\n",
      "E(CCSD) = -107.6560799984388  E_corr = -0.1571124538549533\n",
      "converged SCF energy = -107.498967544584\n"
     ]
    },
    {
     "name": "stderr",
     "output_type": "stream",
     "text": [
      "/mnt/beegfs/workdir/antoine.misery/mambaforge/envs/is_paper_env/lib/python3.11/site-packages/jax/_src/ops/scatter.py:93: FutureWarning: scatter inputs have incompatible types: cannot safely cast value from dtype=int64 to dtype=bool with jax_numpy_dtype_promotion='standard'. In future JAX releases this will result in an error.\n",
      "  warnings.warn(\n"
     ]
    },
    {
     "ename": "TypeError",
     "evalue": "type not understood",
     "output_type": "error",
     "traceback": [
      "\u001b[31m---------------------------------------------------------------------------\u001b[39m",
      "\u001b[31mTypeError\u001b[39m                                 Traceback (most recent call last)",
      "\u001b[36mCell\u001b[39m\u001b[36m \u001b[39m\u001b[32mIn[3]\u001b[39m\u001b[32m, line 23\u001b[39m\n\u001b[32m     20\u001b[39m     \u001b[38;5;28;01mreturn\u001b[39;00m vstate\n\u001b[32m     22\u001b[39m \u001b[38;5;66;03m# As a reference for the optimization, we compute the exact ground state energy\u001b[39;00m\n\u001b[32m---> \u001b[39m\u001b[32m23\u001b[39m E_gs = \u001b[43me_diag\u001b[49m\u001b[43m(\u001b[49m\u001b[43mmodel\u001b[49m\u001b[43m.\u001b[49m\u001b[43mhamiltonian\u001b[49m\u001b[43m.\u001b[49m\u001b[43mto_sparse\u001b[49m\u001b[43m(\u001b[49m\u001b[43m)\u001b[49m\u001b[43m)\u001b[49m\n",
      "\u001b[36mFile \u001b[39m\u001b[32m~/importance_sampling_nqs/packages/grad_sample/utils/utils.py:21\u001b[39m, in \u001b[36me_diag\u001b[39m\u001b[34m(H_sp)\u001b[39m\n\u001b[32m     20\u001b[39m \u001b[38;5;28;01mdef\u001b[39;00m\u001b[38;5;250m \u001b[39m\u001b[34me_diag\u001b[39m(H_sp):\n\u001b[32m---> \u001b[39m\u001b[32m21\u001b[39m     eig_vals, eig_vecs = \u001b[43meigsh\u001b[49m\u001b[43m(\u001b[49m\n\u001b[32m     22\u001b[39m \u001b[43m        \u001b[49m\u001b[43mH_sp\u001b[49m\u001b[43m,\u001b[49m\u001b[43m \u001b[49m\u001b[43mk\u001b[49m\u001b[43m=\u001b[49m\u001b[32;43m2\u001b[39;49m\u001b[43m,\u001b[49m\u001b[43m \u001b[49m\u001b[43mwhich\u001b[49m\u001b[43m=\u001b[49m\u001b[33;43m\"\u001b[39;49m\u001b[33;43mSA\u001b[39;49m\u001b[33;43m\"\u001b[39;49m\n\u001b[32m     23\u001b[39m \u001b[43m    \u001b[49m\u001b[43m)\u001b[49m  \u001b[38;5;66;03m# k is the number of eigenvalues desired,\u001b[39;00m\n\u001b[32m     24\u001b[39m     E_gs = eig_vals[\u001b[32m0\u001b[39m]  \u001b[38;5;66;03m# \"SA\" selects the ones with smallest absolute value\u001b[39;00m\n\u001b[32m     25\u001b[39m     \u001b[38;5;28;01mreturn\u001b[39;00m E_gs\n",
      "\u001b[36mFile \u001b[39m\u001b[32m/mnt/beegfs/workdir/antoine.misery/mambaforge/envs/is_paper_env/lib/python3.11/site-packages/scipy/sparse/linalg/_eigen/arpack/arpack.py:1619\u001b[39m, in \u001b[36meigsh\u001b[39m\u001b[34m(A, k, M, sigma, which, v0, ncv, maxiter, tol, return_eigenvectors, Minv, OPinv, mode)\u001b[39m\n\u001b[32m   1616\u001b[39m     \u001b[38;5;28;01mreturn\u001b[39;00m eigh(A, b=M, eigvals_only=\u001b[38;5;129;01mnot\u001b[39;00m return_eigenvectors)\n\u001b[32m   1618\u001b[39m \u001b[38;5;28;01mif\u001b[39;00m sigma \u001b[38;5;129;01mis\u001b[39;00m \u001b[38;5;28;01mNone\u001b[39;00m:\n\u001b[32m-> \u001b[39m\u001b[32m1619\u001b[39m     A = \u001b[43maslinearoperator\u001b[49m\u001b[43m(\u001b[49m\u001b[43mA\u001b[49m\u001b[43m)\u001b[49m\n\u001b[32m   1620\u001b[39m     matvec = A.matvec\n\u001b[32m   1622\u001b[39m     \u001b[38;5;28;01mif\u001b[39;00m OPinv \u001b[38;5;129;01mis\u001b[39;00m \u001b[38;5;129;01mnot\u001b[39;00m \u001b[38;5;28;01mNone\u001b[39;00m:\n",
      "\u001b[36mFile \u001b[39m\u001b[32m/mnt/beegfs/workdir/antoine.misery/mambaforge/envs/is_paper_env/lib/python3.11/site-packages/scipy/sparse/linalg/_interface.py:921\u001b[39m, in \u001b[36maslinearoperator\u001b[39m\u001b[34m(A)\u001b[39m\n\u001b[32m    917\u001b[39m     \u001b[38;5;28;01mreturn\u001b[39;00m LinearOperator(A.shape, A.matvec, rmatvec=rmatvec,\n\u001b[32m    918\u001b[39m                           rmatmat=rmatmat, dtype=dtype)\n\u001b[32m    920\u001b[39m \u001b[38;5;28;01melse\u001b[39;00m:\n\u001b[32m--> \u001b[39m\u001b[32m921\u001b[39m     \u001b[38;5;28;01mraise\u001b[39;00m \u001b[38;5;167;01mTypeError\u001b[39;00m(\u001b[33m'\u001b[39m\u001b[33mtype not understood\u001b[39m\u001b[33m'\u001b[39m)\n",
      "\u001b[31mTypeError\u001b[39m: type not understood"
     ]
    }
   ],
   "source": [
    "model = PCMolecule(cid =947, use_nat_orb= False)\n",
    "\n",
    "def create_vstate():\n",
    "    ansatz = LogNeuralBackflow(hilbert = model.hilbert_space, \n",
    "                               hidden_units = 16, \n",
    "                                n_layers= 2,\n",
    "                )\n",
    "\n",
    "    sampler = nk.sampler.ExactSampler(hilbert = model.hilbert_space)\n",
    "\n",
    "    vstate = nk.vqs.MCState(sampler= sampler, \n",
    "                            model=ansatz, \n",
    "                            n_samples= Ns,\n",
    "                            chunk_size = chunk_size_vstate,\n",
    "                            seed=0\n",
    "                            )\n",
    "    return vstate\n",
    "\n",
    "# As a reference for the optimization, we compute the exact ground state energy\n",
    "E_gs = model.E_fci"
   ]
  },
  {
   "cell_type": "code",
   "execution_count": 10,
   "metadata": {},
   "outputs": [],
   "source": [
    "def create_vstate():\n",
    "    ansatz = LogNeuralBackflow(hilbert = model.hilbert_space, hidden_units = 16, \n",
    "                                n_layers= 2,\n",
    "                )\n",
    "\n",
    "    sampler = nk.sampler.MetropolisFermionHop(hilbert = model.hilbert_space, graph = model.graph)\n",
    "\n",
    "    vstate = nk.vqs.MCState(sampler= sampler, \n",
    "                            model=ansatz, \n",
    "                            n_samples= Ns,\n",
    "                            chunk_size = chunk_size_vstate,\n",
    "                            # n_discard_per_chain = 2**6\n",
    "                            )\n",
    "    return vstate"
   ]
  },
  {
   "cell_type": "code",
   "execution_count": 4,
   "metadata": {},
   "outputs": [],
   "source": [
    "E_gs = model.E_fci"
   ]
  },
  {
   "cell_type": "markdown",
   "metadata": {},
   "source": [
    "## Testing importance sampling\n",
    "We will compare 3 sampling strategies:\n",
    "- the usual one where we sample from $|\\psi|^2$\n",
    "- sampling from $|\\psi|$\n",
    "- adaptive tuning of the overdispersion coefficient $|\\psi|^\\alpha$\n",
    "\n",
    "For a fair comparison, we will compute the variational energies in exact summation."
   ]
  },
  {
   "cell_type": "markdown",
   "metadata": {},
   "source": [
    "### Sampling from $|\\psi|^2$\n",
    "Let's start by the usual case where we sample from the Born amplitude"
   ]
  },
  {
   "cell_type": "code",
   "execution_count": 11,
   "metadata": {},
   "outputs": [],
   "source": [
    "vstate = create_vstate()\n",
    "driver =advd.driver.VMC_NG(hamiltonian=model.hamiltonian.to_jax_operator(), \n",
    "                            optimizer=opt, \n",
    "                            variational_state=vstate, \n",
    "                            diag_shift=diag_shift, \n",
    "                            use_ntk=False,\n",
    "                            on_the_fly=False)"
   ]
  },
  {
   "cell_type": "code",
   "execution_count": 12,
   "metadata": {},
   "outputs": [
    {
     "name": "stderr",
     "output_type": "stream",
     "text": [
      "100%|███████████████| 500/500 [07:36<00:00,  1.09it/s, Energy=-107.55-0.00j ± 0.39 [σ²=0.09]]\n"
     ]
    },
    {
     "data": {
      "text/plain": [
       "(RuntimeLog():\n",
       "  keys = ['Energy', 'acceptance', 'rel_err'],)"
      ]
     },
     "execution_count": 12,
     "metadata": {},
     "output_type": "execute_result"
    }
   ],
   "source": [
    "out_psi_sq = nk.logging.RuntimeLog()\n",
    "fs_state_err = nk.vqs.FullSumState(hilbert = vstate.hilbert, \n",
    "                                        model = vstate.model,  \n",
    "                                        seed=0)\n",
    "driver.run(n_iter = n_iter, out = out_psi_sq, callback = (InvalidLossStopping(), save_exact_err(fs_state_err, E_gs, save_every=10)))"
   ]
  },
  {
   "cell_type": "code",
   "execution_count": 13,
   "metadata": {},
   "outputs": [
    {
     "data": {
      "image/png": "[encoded data removed]",
      "text/plain": [
       "<Figure size 640x480 with 1 Axes>"
      ]
     },
     "metadata": {},
     "output_type": "display_data"
    }
   ],
   "source": [
    "plt.plot(out_psi_sq['rel_err'])\n",
    "plt.yscale('log')"
   ]
  },
  {
   "cell_type": "markdown",
   "metadata": {},
   "source": [
    "### Sampling from $|\\psi|$\n",
    "Now, we can test what Chen and Heyl proposed in the MinSR paper that is to sample from the modulus of the neural wave function."
   ]
  },
  {
   "cell_type": "code",
   "execution_count": 14,
   "metadata": {},
   "outputs": [
    {
     "name": "stderr",
     "output_type": "stream",
     "text": [
      "100%|███| 500/500 [12:30<00:00,  1.50s/it, Energy=-107.65687-0.00000j ± 0.00069 [σ²=0.00016]]\n"
     ]
    },
    {
     "data": {
      "text/plain": [
       "(RuntimeLog():\n",
       "  keys = ['Energy', 'acceptance', 'rel_err'],)"
      ]
     },
     "execution_count": 14,
     "metadata": {},
     "output_type": "execute_result"
    }
   ],
   "source": [
    "modulus_distribution = advd.driver.overdispersed_distribution(alpha=1.0)\n",
    "vstate = create_vstate()\n",
    "driver =advd.driver.VMC_NG(hamiltonian=model.hamiltonian.to_jax_operator(), \n",
    "                            optimizer=opt, \n",
    "                            sampling_distribution = modulus_distribution, #here we specified the new sampling distribution\n",
    "                            variational_state=vstate, \n",
    "                            diag_shift=diag_shift, \n",
    "                            use_ntk=False,\n",
    "                            on_the_fly=False)\n",
    "\n",
    "out_psi_mod = nk.logging.RuntimeLog()\n",
    "fs_state_err = nk.vqs.FullSumState(hilbert = vstate.hilbert, \n",
    "                                    model = vstate.model,  \n",
    "                                    seed=0)\n",
    "driver.run(n_iter = n_iter, out = out_psi_mod, callback = (InvalidLossStopping(), save_exact_err(fs_state_err, E_gs, save_every=10)))"
   ]
  },
  {
   "cell_type": "code",
   "execution_count": 15,
   "metadata": {},
   "outputs": [
    {
     "data": {
      "image/png": "[encoded data removed]",
      "text/plain": [
       "<Figure size 640x480 with 1 Axes>"
      ]
     },
     "metadata": {},
     "output_type": "display_data"
    }
   ],
   "source": [
    "plt.plot(out_psi_mod['rel_err'])\n",
    "plt.yscale('log')"
   ]
  },
  {
   "cell_type": "markdown",
   "metadata": {},
   "source": [
    "### Adaptive tuning\n",
    "Now let's try adaptive tuning of the overdispersion factor to see if we gain any extra benefit from it."
   ]
  },
  {
   "cell_type": "code",
   "execution_count": 16,
   "metadata": {},
   "outputs": [
    {
     "name": "stderr",
     "output_type": "stream",
     "text": [
      " 83%|██████████████████▏   | 413/500 [10:59<02:18,  1.60s/it, Energy=nan+nanj ± nan [σ²=nan]]\n"
     ]
    },
    {
     "data": {
      "text/plain": [
       "(RuntimeLog():\n",
       "  keys = ['Energy', 'acceptance', 'rel_err', 'info'],)"
      ]
     },
     "execution_count": 16,
     "metadata": {},
     "output_type": "execute_result"
    }
   ],
   "source": [
    "modulus_distribution = advd.driver.overdispersed_distribution(alpha=1.0) # we instantiate at alpha=1 for stability\n",
    "vstate = create_vstate()\n",
    "driver =advd.driver.VMC_NG(hamiltonian=model.hamiltonian.to_jax_operator(), \n",
    "                            optimizer=opt, \n",
    "                            sampling_distribution = modulus_distribution, #here we specified the new sampling distribution\n",
    "                            variational_state=vstate, \n",
    "                            diag_shift=diag_shift, \n",
    "                            auto_is = True, #this will call the adaptive tuning\n",
    "                            use_ntk=False,\n",
    "                            on_the_fly=False)\n",
    "\n",
    "out_psi_auto = nk.logging.RuntimeLog()\n",
    "fs_state_err = nk.vqs.FullSumState(hilbert = vstate.hilbert, \n",
    "                                    model = vstate.model,  \n",
    "                                    seed=0)\n",
    "driver.run(n_iter = n_iter, out = out_psi_mod, callback = (InvalidLossStopping(), save_exact_err(fs_state_err, E_gs, save_every=10)))"
   ]
  },
  {
   "cell_type": "code",
   "execution_count": 18,
   "metadata": {},
   "outputs": [
    {
     "ename": "KeyError",
     "evalue": "'rel_err'",
     "output_type": "error",
     "traceback": [
      "\u001b[31m---------------------------------------------------------------------------\u001b[39m",
      "\u001b[31mKeyError\u001b[39m                                  Traceback (most recent call last)",
      "\u001b[36mCell\u001b[39m\u001b[36m \u001b[39m\u001b[32mIn[18]\u001b[39m\u001b[32m, line 1\u001b[39m\n\u001b[32m----> \u001b[39m\u001b[32m1\u001b[39m plt.plot(\u001b[43mout_psi_auto\u001b[49m\u001b[43m[\u001b[49m\u001b[33;43m'\u001b[39;49m\u001b[33;43mrel_err\u001b[39;49m\u001b[33;43m'\u001b[39;49m\u001b[43m]\u001b[49m)\n\u001b[32m      2\u001b[39m plt.yscale(\u001b[33m'\u001b[39m\u001b[33mlog\u001b[39m\u001b[33m'\u001b[39m)\n",
      "\u001b[36mFile \u001b[39m\u001b[32m/mnt/beegfs/workdir/antoine.misery/mambaforge/envs/is_paper_env/lib/python3.11/site-packages/netket/logging/runtime_log.py:67\u001b[39m, in \u001b[36mRuntimeLog.__getitem__\u001b[39m\u001b[34m(self, key)\u001b[39m\n\u001b[32m     66\u001b[39m \u001b[38;5;28;01mdef\u001b[39;00m\u001b[38;5;250m \u001b[39m\u001b[34m__getitem__\u001b[39m(\u001b[38;5;28mself\u001b[39m, key: \u001b[38;5;28mstr\u001b[39m) -> Any:\n\u001b[32m---> \u001b[39m\u001b[32m67\u001b[39m     \u001b[38;5;28;01mreturn\u001b[39;00m \u001b[38;5;28;43mself\u001b[39;49m\u001b[43m.\u001b[49m\u001b[43mdata\u001b[49m\u001b[43m[\u001b[49m\u001b[43mkey\u001b[49m\u001b[43m]\u001b[49m\n",
      "\u001b[36mFile \u001b[39m\u001b[32m/mnt/beegfs/workdir/antoine.misery/mambaforge/envs/is_paper_env/lib/python3.11/site-packages/netket/utils/history/history_dict.py:93\u001b[39m, in \u001b[36mHistoryDict.__getitem__\u001b[39m\u001b[34m(self, key, wrap_dicts)\u001b[39m\n\u001b[32m     91\u001b[39m         \u001b[38;5;28;01mreturn\u001b[39;00m HistoryDict(val)\n\u001b[32m     92\u001b[39m     \u001b[38;5;28;01mreturn\u001b[39;00m val\n\u001b[32m---> \u001b[39m\u001b[32m93\u001b[39m val = \u001b[38;5;28;43mself\u001b[39;49m\u001b[43m.\u001b[49m\u001b[43m_data\u001b[49m\u001b[43m[\u001b[49m\u001b[43mkey\u001b[49m\u001b[43m]\u001b[49m\n\u001b[32m     94\u001b[39m \u001b[38;5;28;01mif\u001b[39;00m wrap_dicts \u001b[38;5;129;01mand\u001b[39;00m \u001b[38;5;28misinstance\u001b[39m(val, \u001b[38;5;28mdict\u001b[39m):\n\u001b[32m     95\u001b[39m     \u001b[38;5;28;01mreturn\u001b[39;00m HistoryDict(val)\n",
      "\u001b[31mKeyError\u001b[39m: 'rel_err'"
     ]
    }
   ],
   "source": [
    "plt.plot(out_psi_auto['rel_err'])\n",
    "plt.yscale('log')"
   ]
  },
  {
   "cell_type": "markdown",
   "metadata": {},
   "source": [
    "### Let's compare !"
   ]
  },
  {
   "cell_type": "code",
   "execution_count": null,
   "metadata": {},
   "outputs": [],
   "source": [
    "plt.plot(jnp.linspace(0,n_iter,n_iter//10), out_psi_sq['rel_err'], label = 'Born sampling')\n",
    "plt.plot(jnp.linspace(0,n_iter,n_iter//10), out_psi_mod['rel_err'], label = 'mod. psi sampling')\n",
    "plt.plot(jnp.linspace(0,n_iter,n_iter//10), out_psi_auto['rel_err'], label = 'adaptive tuning')\n",
    "\n",
    "plt.ylabel('relative error')\n",
    "plt.xlabel('iteration')\n",
    "\n",
    "plt.yscale('log')\n",
    "\n",
    "plt.legend()\n",
    "plt.show()"
   ]
  }
 ],
 "metadata": {
  "kernelspec": {
   "display_name": "Python 3 (ipykernel)",
   "language": "python",
   "name": "python3"
  }
 },
 "nbformat": 4,
 "nbformat_minor": 2
}
