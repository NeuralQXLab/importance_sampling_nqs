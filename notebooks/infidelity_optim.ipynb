{
 "cells": [
  {
   "cell_type": "markdown",
   "metadata": {},
   "source": [
    "# Infidelity optimization on the quench dynamics of the Transverse Field Ising Model\n",
    "we present the state optimization for the update at time $Jt = 1.25 \\rightarrow 1.30$ when performing a full-basis simulation of the quench dynamics of the 2D transverse field Ising Model\n",
    "$$\n",
    "    H = -4J\\sum_{\\langle i,j\\rangle } S^z_iS^z_j - 2h\\sum_iS^x_i\n",
    "$$\n",
    "from $h = \\infty$ to $h = h_c/10$, on a $4\\times 4$\n",
    "\n",
    "This notebook takes about 15 minutes to run on a modern GPU."
   ]
  },
  {
   "cell_type": "code",
   "execution_count": 16,
   "metadata": {},
   "outputs": [],
   "source": [
    "import netket as nk \n",
    "import matplotlib.pyplot as plt \n",
    "import optax\n",
    "import jax.numpy as jnp\n",
    "from netket.callbacks import InvalidLossStopping\n",
    "from copy import copy, deepcopy\n",
    "\n",
    "import advanced_drivers as advd\n",
    "from  grad_sample.ansatz import CNN\n",
    "from grad_sample.models import TFI\n",
    "from ptvmc.nn import DiagonalWrapper\n",
    "from grad_sample.utils import e_diag, save_exact_infidelity"
   ]
  },
  {
   "cell_type": "code",
   "execution_count": 17,
   "metadata": {},
   "outputs": [],
   "source": [
    "# Define VMC hparams\n",
    "Ns = 2**13\n",
    "n_iter = 500\n",
    "lr= 5e-2\n",
    "diag_shift= 1e-7\n",
    "opt = optax.inject_hyperparams(optax.sgd)(learning_rate=lr)\n",
    "solver_fn = nk.optimizer.solver.cholesky()"
   ]
  },
  {
   "cell_type": "markdown",
   "metadata": {},
   "source": [
    "### Variational State creation\n",
    "- Instead of the usual Metropolis sampler, we will resort to an exact sampler due to the small system size. This will speed up the optimization.\n",
    "- As an ansatz, we employ the Neural Network backflow which takes the following form:\n",
    "$$ $$"
   ]
  },
  {
   "cell_type": "code",
   "execution_count": 18,
   "metadata": {},
   "outputs": [],
   "source": [
    "model = TFI(L = 4, h = 0.3044, J = -1.0)\n",
    "\n",
    "def create_vstate():\n",
    "    net = CNN( \n",
    "                lattice=model.graph,\n",
    "                kernel_size=[3,3],\n",
    "                channels=[10,10,10,10]\n",
    "                )\n",
    "    \n",
    "    ansatz = DiagonalWrapper(network=net,\n",
    "                             param_dtype= complex)\n",
    "    sampler = nk.sampler.ExactSampler(hilbert = model.hilbert_space)\n",
    "\n",
    "    # load init state\n",
    "    vs_fs = nk.vqs.FullSumState.load('importance_sampling_nqs/data/infidelity_states/state_1.25000.nk')\n",
    "\n",
    "    vstate = nk.vqs.MCState(sampler= sampler, \n",
    "                            model=ansatz, \n",
    "                            n_samples= Ns,\n",
    "                            seed=0,\n",
    "                            variables = vs_fs.variables\n",
    "                            )\n",
    "    \n",
    "    # load target state\n",
    "    ts_fs = nk.vqs.FullSumState.load('importance_sampling_nqs/data/infidelity_states/state_1.30000.nk')\n",
    "    ts = copy(vstate)\n",
    "    ts.variables = deepcopy(ts_fs.variables)\n",
    "\n",
    "    return vstate, ts"
   ]
  },
  {
   "cell_type": "code",
   "execution_count": 19,
   "metadata": {},
   "outputs": [],
   "source": [
    "pi_cb = advd._src.callbacks.autodiagshift.PI_controller_diagshift(\n",
    "    target= 0.9,\n",
    "    safety_fac=1.,\n",
    "    clip_min= 0.5,\n",
    "    clip_max= 2,\n",
    "    diag_shift_min=1e-9,\n",
    "    diag_shift_max= 1e-1,\n",
    "    order= 1,\n",
    "    beta_1=0.9,\n",
    "    beta_2=0.1,\n",
    "    max_step_attempts= 5)"
   ]
  },
  {
   "cell_type": "markdown",
   "metadata": {},
   "source": [
    "### Sampling from $|\\psi|^2$\n",
    "Let's start by the usual case where we sample from the Born amplitude"
   ]
  },
  {
   "cell_type": "code",
   "execution_count": 20,
   "metadata": {},
   "outputs": [
    {
     "name": "stderr",
     "output_type": "stream",
     "text": [
      " 66%|▋| 330/500 [05:42<02:55,  1.03s/it, Infidelity=5.17"
     ]
    },
    {
     "name": "stdout",
     "output_type": "stream",
     "text": [
      "ρ is out of bounds. The current value is (-0.04641591983234503-0j). The bounds are [0.1,3]. \n",
      "\n"
     ]
    },
    {
     "name": "stderr",
     "output_type": "stream",
     "text": [
      "100%|█| 500/500 [08:25<00:00,  1.01s/it, Infidelity=1.30\n"
     ]
    },
    {
     "data": {
      "text/plain": [
       "(RuntimeLog():\n",
       "  keys = ['adaptive_diagshift', 'Infidelity', 'info', 'inf_fs', 'constrained_norm', 'rejected_steps'],)"
      ]
     },
     "execution_count": 20,
     "metadata": {},
     "output_type": "execute_result"
    }
   ],
   "source": [
    "vstate, ts = create_vstate()\n",
    "sampling_state_distribution = advd.driver.overdispersed_distribution(alpha=2.0)\n",
    "sampling_target_distribution = advd.driver.overdispersed_distribution(alpha=2.0)\n",
    "driver = advd.driver.InfidelityOptimizerNG(\n",
    "            target_state=ts,\n",
    "            optimizer=opt,\n",
    "            diag_shift=diag_shift,\n",
    "            linear_solver_fn=solver_fn,\n",
    "            variational_state=vstate,\n",
    "            use_ntk=False,\n",
    "            chunk_size_bwd=1024,\n",
    "            sampling_state_distribution=sampling_state_distribution,\n",
    "            sampling_target_distribution=sampling_target_distribution,\n",
    "            U=None,\n",
    "            V=None,\n",
    "        )\n",
    "out_psi_sq = nk.logging.RuntimeLog()\n",
    "driver.run(n_iter = n_iter, out = out_psi_sq, callback = (InvalidLossStopping(), pi_cb, save_exact_infidelity()))"
   ]
  },
  {
   "cell_type": "markdown",
   "metadata": {},
   "source": [
    "### Sampling from $|\\psi|^{\\frac12}$"
   ]
  },
  {
   "cell_type": "code",
   "execution_count": 21,
   "metadata": {},
   "outputs": [
    {
     "name": "stderr",
     "output_type": "stream",
     "text": [
      " 12%| | 60/500 [00:57<07:41,  1.05s/it, Infidelity=8.239"
     ]
    },
    {
     "name": "stderr",
     "output_type": "stream",
     "text": [
      "100%|█| 500/500 [07:47<00:00,  1.07it/s, Infidelity=5.40\n"
     ]
    },
    {
     "data": {
      "text/plain": [
       "(RuntimeLog():\n",
       "  keys = ['adaptive_diagshift', 'Infidelity', 'info', 'inf_fs', 'constrained_norm', 'rejected_steps'],)"
      ]
     },
     "execution_count": 21,
     "metadata": {},
     "output_type": "execute_result"
    }
   ],
   "source": [
    "vstate, ts = create_vstate()\n",
    "sampling_state_distribution = advd.driver.overdispersed_distribution(alpha=0.5)\n",
    "sampling_target_distribution = advd.driver.overdispersed_distribution(alpha=0.5)\n",
    "driver = advd.driver.InfidelityOptimizerNG(\n",
    "            target_state=ts,\n",
    "            optimizer=opt,\n",
    "            diag_shift=diag_shift,\n",
    "            linear_solver_fn=solver_fn,\n",
    "            variational_state=vstate,\n",
    "            use_ntk=False,\n",
    "            chunk_size_bwd=1024,\n",
    "            sampling_state_distribution=sampling_state_distribution,\n",
    "            sampling_target_distribution=sampling_target_distribution,\n",
    "            U=None,\n",
    "            V=None,\n",
    "        )\n",
    "out_psi_sqrt = nk.logging.RuntimeLog()\n",
    "driver.run(n_iter = n_iter, out = out_psi_sqrt, callback = (InvalidLossStopping(), pi_cb, save_exact_infidelity()))"
   ]
  },
  {
   "cell_type": "markdown",
   "metadata": {},
   "source": [
    "### Let's compare !"
   ]
  },
  {
   "cell_type": "code",
   "execution_count": 22,
   "metadata": {},
   "outputs": [
    {
     "data": {
      "image/png": "[encoded data removed]",
      "text/plain": [
       "<Figure size 640x480 with 1 Axes>"
      ]
     },
     "metadata": {},
     "output_type": "display_data"
    }
   ],
   "source": [
    "plt.plot(jnp.linspace(0,n_iter,n_iter//10), out_psi_sq['inf_fs'], label = 'Born sampling')\n",
    "plt.plot(jnp.linspace(0,n_iter,n_iter//10), out_psi_sqrt['inf_fs'], label = 'sqrt. psi sampling')\n",
    "# plt.plot(jnp.linspace(0,n_iter,n_iter//10), out_psi_auto['rel_err'], label = 'adaptive tuning')\n",
    "\n",
    "plt.ylabel('Infidelity')\n",
    "plt.xlabel('iteration')\n",
    "\n",
    "plt.yscale('log')\n",
    "\n",
    "plt.legend()\n",
    "plt.show()"
   ]
  }
 ],
 "metadata": {
  "kernelspec": {
   "display_name": "Python 3 (ipykernel)",
   "language": "python",
   "name": "python3"
  },
  "language_info": {
   "codemirror_mode": {
    "name": "ipython",
    "version": 3
   },
   "file_extension": ".py",
   "mimetype": "text/x-python",
   "name": "python",
   "nbconvert_exporter": "python",
   "pygments_lexer": "ipython3",
   "version": "3.11.12"
  }
 },
 "nbformat": 4,
 "nbformat_minor": 2
}
