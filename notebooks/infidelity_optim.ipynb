{
 "cells": [
  {
   "cell_type": "markdown",
   "metadata": {},
   "source": [
    "# Infidelity optimization on the quench dynamics of the Transverse Field Ising Model\n",
    "we present the state optimization for the update at time $Jt = 1.25 \\rightarrow 1.30$ when performing a full-basis simulation of the quench dynamics of the 2D transverse field Ising Model\n",
    "$$\n",
    "    H = -4J\\sum_{\\langle i,j\\rangle } S^z_iS^z_j - 2h\\sum_iS^x_i\n",
    "$$\n",
    "from $h = \\infty$ to $h = h_c/10$, on a $4\\times 4$\n",
    "\n",
    "This notebook takes about 10 minutes to run on a modern GPU."
   ]
  },
  {
   "cell_type": "code",
   "execution_count": 51,
   "metadata": {},
   "outputs": [],
   "source": [
    "import netket as nk \n",
    "import matplotlib.pyplot as plt \n",
    "import optax\n",
    "import jax.numpy as jnp\n",
    "from netket.callbacks import InvalidLossStopping\n",
    "from copy import copy, deepcopy\n",
    "\n",
    "import advanced_drivers as advd\n",
    "from  grad_sample.ansatz import CNN\n",
    "from grad_sample.models import TFI\n",
    "from ptvmc.nn import DiagonalWrapper\n",
    "from grad_sample.utils import e_diag, save_exact_infidelity"
   ]
  },
  {
   "cell_type": "code",
   "execution_count": 62,
   "metadata": {},
   "outputs": [],
   "source": [
    "# Define VMC hparams\n",
    "Ns = 2**13\n",
    "n_iter = 500\n",
    "lr: 5e-2\n",
    "diag_shift: 1e-9\n",
    "opt = optax.inject_hyperparams(optax.sgd)(learning_rate=lr)\n",
    "solver_fn = nk.optimizer.solver.cholesky()"
   ]
  },
  {
   "cell_type": "markdown",
   "metadata": {},
   "source": [
    "### Variational State creation\n",
    "- Instead of the usual Metropolis sampler, we will resort to an exact sampler due to the small system size. This will speed up the optimization.\n",
    "- As an ansatz, we employ the Neural Network backflow which takes the following form:\n",
    "$$ $$"
   ]
  },
  {
   "cell_type": "code",
   "execution_count": 50,
   "metadata": {},
   "outputs": [],
   "source": [
    "model = TFI(L = 4, h = 0.3044, J = -1.0)\n",
    "\n",
    "def create_vstate():\n",
    "    net = CNN( \n",
    "                lattice=model.graph,\n",
    "                kernel_size=[3,3],\n",
    "                channels=[10,10,10,10]\n",
    "                )\n",
    "    \n",
    "    ansatz = DiagonalWrapper(network=net,\n",
    "                             param_dtype= complex)\n",
    "    sampler = nk.sampler.ExactSampler(hilbert = model.hilbert_space)\n",
    "\n",
    "    # load init state\n",
    "    vs_fs = nk.vqs.FullSumState.load('importance_sampling_nqs/data/infidelity_states/state_1.25000.nk')\n",
    "\n",
    "    vstate = nk.vqs.MCState(sampler= sampler, \n",
    "                            model=ansatz, \n",
    "                            n_samples= Ns,\n",
    "                            seed=0,\n",
    "                            variables = vs_fs.variables\n",
    "                            )\n",
    "    \n",
    "    # load target state\n",
    "    ts_fs = nk.vqs.FullSumState.load('importance_sampling_nqs/data/infidelity_states/state_1.30000.nk')\n",
    "    ts = copy(vstate)\n",
    "    ts.variables = deepcopy(ts_fs.variables)\n",
    "\n",
    "    return vstate, ts"
   ]
  },
  {
   "cell_type": "markdown",
   "metadata": {},
   "source": [
    "### Sampling from $|\\psi|^2$\n",
    "Let's start by the usual case where we sample from the Born amplitude"
   ]
  },
  {
   "cell_type": "code",
   "execution_count": 59,
   "metadata": {},
   "outputs": [],
   "source": [
    "pi_cb = advd._src.callbacks.autodiagshift.PI_controller_diagshift(\n",
    "    target= 0.9,\n",
    "    safety_fac=1.,\n",
    "    clip_min= 0.5,\n",
    "    clip_max= 2,\n",
    "    diag_shift_min=1e-9,\n",
    "    diag_shift_max= 1e-1,\n",
    "    order= 1,\n",
    "    beta_1=0.9,\n",
    "    beta_2=0.1,\n",
    "    max_step_attempts= 5)"
   ]
  },
  {
   "cell_type": "code",
   "execution_count": 52,
   "metadata": {},
   "outputs": [
    {
     "name": "stderr",
     "output_type": "stream",
     "text": [
      "100%|█| 500/500 [04:42<00:00,  1.77it/s, Infidelity=0.00\n"
     ]
    },
    {
     "data": {
      "text/plain": [
       "(RuntimeLog():\n",
       "  keys = ['Infidelity', 'inf_fs'],)"
      ]
     },
     "execution_count": 52,
     "metadata": {},
     "output_type": "execute_result"
    }
   ],
   "source": [
    "vstate, ts = create_vstate()\n",
    "sampling_state_distribution = advd.driver.overdispersed_distribution(alpha=2.0)\n",
    "sampling_target_distribution = advd.driver.overdispersed_distribution(alpha=2.0)\n",
    "driver = advd.driver.InfidelityOptimizerNG(\n",
    "            target_state=ts,\n",
    "            optimizer=opt,\n",
    "            diag_shift=diag_shift,\n",
    "            linear_solver_fn=solver_fn,\n",
    "            variational_state=vstate,\n",
    "            use_ntk=False,\n",
    "            chunk_size_bwd=1024,\n",
    "            sampling_state_distribution=sampling_state_distribution,\n",
    "            sampling_target_distribution=sampling_target_distribution,\n",
    "            U=None,\n",
    "            V=None,\n",
    "        )\n",
    "out_psi_sq = nk.logging.RuntimeLog()\n",
    "driver.run(n_iter = n_iter, out = out_psi_sq, callback = (InvalidLossStopping(), pi_cb, save_exact_infidelity()))"
   ]
  },
  {
   "cell_type": "markdown",
   "metadata": {},
   "source": [
    "### Sampling from $|\\psi|^{\\frac12}$"
   ]
  },
  {
   "cell_type": "code",
   "execution_count": 63,
   "metadata": {},
   "outputs": [
    {
     "name": "stderr",
     "output_type": "stream",
     "text": [
      "  0%|                           | 0/500 [00:05<?, ?it/s]\n"
     ]
    },
    {
     "ename": "ValueError",
     "evalue": "too many values to unpack (expected 5)",
     "output_type": "error",
     "traceback": [
      "\u001b[31m---------------------------------------------------------------------------\u001b[39m",
      "\u001b[31mValueError\u001b[39m                                Traceback (most recent call last)",
      "\u001b[36mCell\u001b[39m\u001b[36m \u001b[39m\u001b[32mIn[63]\u001b[39m\u001b[32m, line 18\u001b[39m\n\u001b[32m      4\u001b[39m driver = advd.driver.InfidelityOptimizerNG(\n\u001b[32m      5\u001b[39m             target_state=ts,\n\u001b[32m      6\u001b[39m             optimizer=opt,\n\u001b[32m   (...)\u001b[39m\u001b[32m     15\u001b[39m             V=\u001b[38;5;28;01mNone\u001b[39;00m,\n\u001b[32m     16\u001b[39m         )\n\u001b[32m     17\u001b[39m out_psi_sqrt = nk.logging.RuntimeLog()\n\u001b[32m---> \u001b[39m\u001b[32m18\u001b[39m \u001b[43mdriver\u001b[49m\u001b[43m.\u001b[49m\u001b[43mrun\u001b[49m\u001b[43m(\u001b[49m\u001b[43mn_iter\u001b[49m\u001b[43m \u001b[49m\u001b[43m=\u001b[49m\u001b[43m \u001b[49m\u001b[43mn_iter\u001b[49m\u001b[43m,\u001b[49m\u001b[43m \u001b[49m\u001b[43mout\u001b[49m\u001b[43m \u001b[49m\u001b[43m=\u001b[49m\u001b[43m \u001b[49m\u001b[43mout_psi_sqrt\u001b[49m\u001b[43m,\u001b[49m\u001b[43m \u001b[49m\u001b[43mcallback\u001b[49m\u001b[43m \u001b[49m\u001b[43m=\u001b[49m\u001b[43m \u001b[49m\u001b[43m(\u001b[49m\u001b[43mInvalidLossStopping\u001b[49m\u001b[43m(\u001b[49m\u001b[43m)\u001b[49m\u001b[43m,\u001b[49m\u001b[43m \u001b[49m\u001b[43mpi_cb\u001b[49m\u001b[43m,\u001b[49m\u001b[43m \u001b[49m\u001b[43msave_exact_infidelity\u001b[49m\u001b[43m(\u001b[49m\u001b[43m)\u001b[49m\u001b[43m)\u001b[49m\u001b[43m)\u001b[49m\n",
      "\u001b[36mFile \u001b[39m\u001b[32m~/importance_sampling_nqs/packages/advanced_drivers/_src/driver/abstract_variational_driver.py:377\u001b[39m, in \u001b[36mAbstractVariationalDriver.run\u001b[39m\u001b[34m(self, n_iter, out, obs, step_size, show_progress, save_params_every, write_every, callback, timeit, _graceful_keyboard_interrupt)\u001b[39m\n\u001b[32m    375\u001b[39m     \u001b[38;5;28;01mexcept\u001b[39;00m \u001b[38;5;167;01mException\u001b[39;00m \u001b[38;5;28;01mas\u001b[39;00m error:\n\u001b[32m    376\u001b[39m         callbacks.on_run_error(\u001b[38;5;28mself\u001b[39m.step_count, error, \u001b[38;5;28mself\u001b[39m)\n\u001b[32m--> \u001b[39m\u001b[32m377\u001b[39m         \u001b[38;5;28;01mraise\u001b[39;00m error\n\u001b[32m    379\u001b[39m \u001b[38;5;28;01mif\u001b[39;00m timeit:\n\u001b[32m    380\u001b[39m     \u001b[38;5;28mself\u001b[39m._timer = timer\n",
      "\u001b[36mFile \u001b[39m\u001b[32m~/importance_sampling_nqs/packages/advanced_drivers/_src/driver/abstract_variational_driver.py:339\u001b[39m, in \u001b[36mAbstractVariationalDriver.run\u001b[39m\u001b[34m(self, n_iter, out, obs, step_size, show_progress, save_params_every, write_every, callback, timeit, _graceful_keyboard_interrupt)\u001b[39m\n\u001b[32m    335\u001b[39m callbacks.on_compute_update_start(\n\u001b[32m    336\u001b[39m     \u001b[38;5;28mself\u001b[39m.step_count, step_log_data, \u001b[38;5;28mself\u001b[39m\n\u001b[32m    337\u001b[39m )\n\u001b[32m    338\u001b[39m \u001b[38;5;28mself\u001b[39m._loss_stats, \u001b[38;5;28mself\u001b[39m._dp = \u001b[38;5;28mself\u001b[39m.compute_loss_and_update()\n\u001b[32m--> \u001b[39m\u001b[32m339\u001b[39m \u001b[43mcallbacks\u001b[49m\u001b[43m.\u001b[49m\u001b[43mon_compute_update_end\u001b[49m\u001b[43m(\u001b[49m\n\u001b[32m    340\u001b[39m \u001b[43m    \u001b[49m\u001b[38;5;28;43mself\u001b[39;49m\u001b[43m.\u001b[49m\u001b[43mstep_count\u001b[49m\u001b[43m,\u001b[49m\u001b[43m \u001b[49m\u001b[43mstep_log_data\u001b[49m\u001b[43m,\u001b[49m\u001b[43m \u001b[49m\u001b[38;5;28;43mself\u001b[39;49m\n\u001b[32m    341\u001b[39m \u001b[43m\u001b[49m\u001b[43m)\u001b[49m\n\u001b[32m    343\u001b[39m \u001b[38;5;66;03m# Handle repeating a step\u001b[39;00m\n\u001b[32m    344\u001b[39m \u001b[38;5;28;01mif\u001b[39;00m \u001b[38;5;28mself\u001b[39m._reject_step \u001b[38;5;129;01mand\u001b[39;00m \u001b[38;5;129;01mnot\u001b[39;00m \u001b[38;5;28mself\u001b[39m._stop_run:\n",
      "\u001b[36mFile \u001b[39m\u001b[32m~/importance_sampling_nqs/packages/advanced_drivers/_src/callbacks/callback_list.py:44\u001b[39m, in \u001b[36mCallbackList.on_compute_update_end\u001b[39m\u001b[34m(self, step, log_data, driver)\u001b[39m\n\u001b[32m     42\u001b[39m \u001b[38;5;28;01mdef\u001b[39;00m\u001b[38;5;250m \u001b[39m\u001b[34mon_compute_update_end\u001b[39m(\u001b[38;5;28mself\u001b[39m, step, log_data, driver):\n\u001b[32m     43\u001b[39m     \u001b[38;5;28;01mfor\u001b[39;00m callback \u001b[38;5;129;01min\u001b[39;00m \u001b[38;5;28mself\u001b[39m.callbacks:\n\u001b[32m---> \u001b[39m\u001b[32m44\u001b[39m         \u001b[43mcallback\u001b[49m\u001b[43m.\u001b[49m\u001b[43mon_compute_update_end\u001b[49m\u001b[43m(\u001b[49m\u001b[43mstep\u001b[49m\u001b[43m,\u001b[49m\u001b[43m \u001b[49m\u001b[43mlog_data\u001b[49m\u001b[43m,\u001b[49m\u001b[43m \u001b[49m\u001b[43mdriver\u001b[49m\u001b[43m)\u001b[49m\n",
      "\u001b[36mFile \u001b[39m\u001b[32m~/importance_sampling_nqs/packages/advanced_drivers/_src/callbacks/autodiagshift.py:135\u001b[39m, in \u001b[36mPI_controller_diagshift.on_compute_update_end\u001b[39m\u001b[34m(self, step, log_data, driver)\u001b[39m\n\u001b[32m    132\u001b[39m linear_term = jnp.asarray(driver.info[\u001b[33m\"\u001b[39m\u001b[33mlinear_term\u001b[39m\u001b[33m\"\u001b[39m])\n\u001b[32m    133\u001b[39m quadratic_term = jnp.asarray(driver.info[\u001b[33m\"\u001b[39m\u001b[33mquadratic_term\u001b[39m\u001b[33m\"\u001b[39m])\n\u001b[32m--> \u001b[39m\u001b[32m135\u001b[39m afun, \u001b[38;5;28mvars\u001b[39m, σ, weights, extra_args = driver._prepare_derivatives()\n\u001b[32m    137\u001b[39m model_state, params = fcore.pop(\u001b[38;5;28mvars\u001b[39m, \u001b[33m\"\u001b[39m\u001b[33mparams\u001b[39m\u001b[33m\"\u001b[39m)\n\u001b[32m    138\u001b[39m δθ = tree.map(\u001b[38;5;28;01mlambda\u001b[39;00m x: -α * x, driver._dp)\n",
      "\u001b[31mValueError\u001b[39m: too many values to unpack (expected 5)"
     ]
    }
   ],
   "source": [
    "vstate, ts = create_vstate()\n",
    "sampling_state_distribution = advd.driver.overdispersed_distribution(alpha=0.5)\n",
    "sampling_target_distribution = advd.driver.overdispersed_distribution(alpha=0.5)\n",
    "driver = advd.driver.InfidelityOptimizerNG(\n",
    "            target_state=ts,\n",
    "            optimizer=opt,\n",
    "            diag_shift=diag_shift,\n",
    "            linear_solver_fn=solver_fn,\n",
    "            variational_state=vstate,\n",
    "            use_ntk=False,\n",
    "            chunk_size_bwd=1024,\n",
    "            sampling_state_distribution=sampling_state_distribution,\n",
    "            sampling_target_distribution=sampling_target_distribution,\n",
    "            U=None,\n",
    "            V=None,\n",
    "        )\n",
    "out_psi_sqrt = nk.logging.RuntimeLog()\n",
    "driver.run(n_iter = n_iter, out = out_psi_sqrt, callback = (InvalidLossStopping(), pi_cb, save_exact_infidelity()))"
   ]
  },
  {
   "cell_type": "markdown",
   "metadata": {},
   "source": [
    "### Let's compare !"
   ]
  },
  {
   "cell_type": "code",
   "execution_count": 60,
   "metadata": {},
   "outputs": [
    {
     "data": {
      "image/png": "[encoded data removed]",
      "text/plain": [
       "<Figure size 640x480 with 1 Axes>"
      ]
     },
     "metadata": {},
     "output_type": "display_data"
    }
   ],
   "source": [
    "plt.plot(jnp.linspace(0,n_iter,n_iter//10), out_psi_sq['inf_fs'], label = 'Born sampling')\n",
    "plt.plot(jnp.linspace(0,n_iter,n_iter//10), out_psi_sqrt['inf_fs'], label = 'mod. psi sampling')\n",
    "# plt.plot(jnp.linspace(0,n_iter,n_iter//10), out_psi_auto['rel_err'], label = 'adaptive tuning')\n",
    "\n",
    "plt.ylabel('relative error')\n",
    "plt.xlabel('iteration')\n",
    "\n",
    "plt.yscale('log')\n",
    "\n",
    "plt.legend()\n",
    "plt.show()"
   ]
  }
 ],
 "metadata": {
  "kernelspec": {
   "display_name": "Python 3 (ipykernel)",
   "language": "python",
   "name": "python3"
  },
  "language_info": {
   "codemirror_mode": {
    "name": "ipython",
    "version": 3
   },
   "file_extension": ".py",
   "mimetype": "text/x-python",
   "name": "python",
   "nbconvert_exporter": "python",
   "pygments_lexer": "ipython3",
   "version": "3.11.12"
  }
 },
 "nbformat": 4,
 "nbformat_minor": 2
}
